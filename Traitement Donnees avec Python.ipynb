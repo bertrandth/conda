{
 "cells": [
  {
   "cell_type": "markdown",
   "metadata": {},
   "source": [
    "## Traitement des données avec Python pour comprendre comment ça marche\n",
    "\n",
    "### Lire un fichier\n",
    "Pour ouvrir un fichier, il faut commencer par créer un objet python $\\texttt{f}$ (par exemple) représentant le fichier créé et le\n",
    "mettant en état de lecture avec l'option $\\texttt{'r'}$ et comme c'est l'option par défaut, il suffit d'écrire : $\\texttt{f= open('nomFichier')}$ où $\\texttt{'nomFichier'}$ désigne le nom avec l'extension.  \n",
    "Pour le lire, on utilise la méthode $\\texttt{read : f.read()}$  \n",
    "Voyons cela sur un exemple. Exécuter les cellules :\n"
   ]
  },
  {
   "cell_type": "code",
   "execution_count": 6,
   "metadata": {},
   "outputs": [],
   "source": [
    "f = open('baselog.csv',encoding = 'UTF8') # ou open('baselog.csv', 'r',encoding='UTF8')\n",
    "contenu = f.read()\n",
    "f.close() # un fichier ouvert doit être toujours fermé"
   ]
  },
  {
   "cell_type": "code",
   "execution_count": 7,
   "metadata": {},
   "outputs": [
    {
     "data": {
      "text/plain": [
       "'nom,login\\nColette,claudine\\nde Beauvoir,deux\\nDuras,hiroshima\\nEco,rose\\nKafka,proces\\nOrwell,1984\\nProust,perdu\\nSagan,tristesse\\nSartre,neant\\nTolkien,anneau\\nVian,ecume\\nYourcenar,hadrien\\n'"
      ]
     },
     "execution_count": 7,
     "metadata": {},
     "output_type": "execute_result"
    }
   ],
   "source": [
    "contenu"
   ]
  },
  {
   "cell_type": "code",
   "execution_count": 8,
   "metadata": {},
   "outputs": [
    {
     "name": "stdout",
     "output_type": "stream",
     "text": [
      "nom,login\n",
      "Colette,claudine\n",
      "de Beauvoir,deux\n",
      "Duras,hiroshima\n",
      "Eco,rose\n",
      "Kafka,proces\n",
      "Orwell,1984\n",
      "Proust,perdu\n",
      "Sagan,tristesse\n",
      "Sartre,neant\n",
      "Tolkien,anneau\n",
      "Vian,ecume\n",
      "Yourcenar,hadrien\n",
      "\n"
     ]
    }
   ],
   "source": [
    "print(contenu)"
   ]
  },
  {
   "cell_type": "markdown",
   "metadata": {},
   "source": [
    "On a ainsi récupérer le texte sous forme d’une chaîne de caractères, ce qui n’est pas très pratique pour traiter le fichier."
   ]
  },
  {
   "cell_type": "markdown",
   "metadata": {},
   "source": [
    "### Lire un fichier CSV avec le module csv\n",
    "Pour traiter des données numériques qui sont enregistrées dans un fichier dont l'extension $\\texttt{.csv}$, il est fortement conseillé d'avoir enregistré le fichier au format csv avec l'encodage UTF-8 et un point pour le séparateur décimal si on souhaite faire des calculs avec les données.  \n",
    "Le module $\\texttt{csv}$ est un des modules qui permet de lire un fichier CSV et de le \"transformer\" en liste que l'on peut ensuite manipuler.   \n",
    "Voyons cela sur un exemple. Exécuter les cellules :"
   ]
  },
  {
   "cell_type": "code",
   "execution_count": 9,
   "metadata": {},
   "outputs": [],
   "source": [
    "import csv\n",
    "f = open('baselog.csv',encoding = 'UTF8')\n",
    "r = csv.reader(f)\n",
    "Log = list(r)\n",
    "f.close()"
   ]
  },
  {
   "cell_type": "code",
   "execution_count": null,
   "metadata": {},
   "outputs": [],
   "source": [
    "Log"
   ]
  },
  {
   "cell_type": "markdown",
   "metadata": {},
   "source": [
    "On récupère ainsi une liste de listes : la liste de toutes les lignes de la table, chaque ligne étant une liste et chaque élément de cette dernière est de type chaîne.  \n",
    "Plus précisément, un élément de $\\texttt{Log}$ obtenu par l'instruction $\\texttt{Log[i]}$ (où $\\texttt{i}$ est l'indice de l'élément) correspond à une\n",
    "ligne de la table.  \n",
    "L'instruction $\\texttt{len(Log)}$ qui renvoie la longueur de la liste $\\texttt{Log}$ correspond donc au nombre de lignes de la table.   \n",
    "L'instruction $\\texttt{len(Log[0])}$ qui renvoie la longueur du premier élément de la liste $\\texttt{Log}$, correspond donc au nombre de colonnes de la table.  \n",
    "Enfin, une cellule de la table sera accessible par $\\texttt{Log[i][j]}$ où $\\texttt{i}$ est l'indice de la ligne et $\\texttt{j}$ celui de la colonne.  \n",
    "On rappelle que les indices des éléments d'un liste $\\texttt{L}$ commence à 0 jusqu'à $\\texttt{len(L)}$.   \n",
    "Exécuter la cellule :"
   ]
  },
  {
   "cell_type": "code",
   "execution_count": 10,
   "metadata": {},
   "outputs": [
    {
     "name": "stdout",
     "output_type": "stream",
     "text": [
      "le nombre de lignes est  13\n",
      "le nombre de colonnes est  2\n",
      "['nom', 'login']\n",
      "['de Beauvoir', 'deux']\n"
     ]
    }
   ],
   "source": [
    "nblignes = len(Log) ; print(\"le nombre de lignes est \", nblignes)\n",
    "nbcolonnes = len(Log[0]) ;  print(\"le nombre de colonnes est \", nbcolonnes)\n",
    "Ligne1=Log[0] ; print(Ligne1)\n",
    "Ligne3=Log[2] ; print(Ligne3)"
   ]
  },
  {
   "cell_type": "markdown",
   "metadata": {},
   "source": [
    "A quoi correspond les éléments de la liste Ligne1 ?"
   ]
  },
  {
   "cell_type": "markdown",
   "metadata": {},
   "source": [
    "Pour récupérer, par exemple, la première colonne autrement dit la liste des éléments d'indice 0 de chaque ligne qui dans notre exemple correspond à l'identifiant $\\texttt{'nom'}$, on peut utiliser la fonction suivante :"
   ]
  },
  {
   "cell_type": "code",
   "execution_count": 11,
   "metadata": {},
   "outputs": [],
   "source": [
    "def Colonne(L,j):\n",
    "#renvoie la liste des éléments de la colonne d'indice j de la table L\n",
    "    C=[]\n",
    "    nblignes=len(L)\n",
    "    for i in range(nblignes):\n",
    "        C.append(L[i][j])\n",
    "    return(C)"
   ]
  },
  {
   "cell_type": "code",
   "execution_count": null,
   "metadata": {},
   "outputs": [],
   "source": [
    "# Autre version :\n",
    "def Colonne(L,j):\n",
    "    C=[]\n",
    "    for ligne in L :\n",
    "        C.append(ligne[j])\n",
    "    return(C)"
   ]
  },
  {
   "cell_type": "markdown",
   "metadata": {},
   "source": [
    "Expliquer \"en langage naturel\" comment opère cette fonction.    \n",
    "Taper dans la ellule ci-dessous, l'instruction qui permet d'obtenir la liste des éléments de la première colonne de la table $\\texttt{Log}$"
   ]
  },
  {
   "cell_type": "markdown",
   "metadata": {},
   "source": [
    "### Croisement des données\n",
    "<ol><li> A partir du fichier $\\texttt{'basemail.csv'}$, obtenir la liste $\\texttt{Mail}$ correspondant à cette table.</li></ol>"
   ]
  },
  {
   "cell_type": "code",
   "execution_count": null,
   "metadata": {},
   "outputs": [],
   "source": []
  },
  {
   "cell_type": "markdown",
   "metadata": {},
   "source": [
    "<ol start=\"2\"><li>Vérifier que ces deux tables $\\texttt{Log}$ et $\\texttt{Mail}$ ont un descripteur en commun en affichant les deux listes contenant les descripteurs de celles-ci.  </li></ol>"
   ]
  },
  {
   "cell_type": "code",
   "execution_count": null,
   "metadata": {},
   "outputs": [],
   "source": []
  },
  {
   "cell_type": "markdown",
   "metadata": {},
   "source": [
    " <ol start=\"3\"><li> On souhaite écrire une fonction $\\texttt{loginPass(adressemail)}$ qui prend en paramètre la chaine adressemail et renvoie le login et le mot de passe correspondant. Compléter :</li></ol>\n",
    " \n",
    "*On rappelle que la méthode index pour les listes permet d'obtenir l'indice d'un élément d'une liste*"
   ]
  },
  {
   "cell_type": "code",
   "execution_count": null,
   "metadata": {},
   "outputs": [],
   "source": [
    "def loginPass(adressemail) :\n",
    "    CmailMail = Colonne(Mail,0) # on récupère la liste des éléments de la colonne\n",
    "    #qui contient les mails dans la liste Mail\n",
    "    CnomMail =       # on récupère la liste des éléments de la colonne\n",
    "    #qui contient les noms dans la liste Mail\n",
    "    indiceLmail = CmailMail.index(adressemail) #on obtient l'indice de la ligne\n",
    "    #où se trouve adressemail dans CmailMail\n",
    "    lenom = CnomMail[indiceLmail] #on obtient le nom correspondant à adressemail\n",
    "    lemotdepasse = Mail[indiceLmail][2] #.......................\n",
    "    CnomLog =        #on récupère la liste des éléments de la colonne\n",
    "    #qui contient les noms dans la liste Log\n",
    "    indiceLlog =      #on obtient l'indice de la ligne\n",
    "    #où se trouve lenom dans CnomLog\n",
    "    lelogin =  #on obtient le mot de passe correspondant à lenom\n",
    "    return(lelogin,lemotdepasse)"
   ]
  },
  {
   "cell_type": "markdown",
   "metadata": {},
   "source": [
    "<ol start=\"4\"><li>Quel est le login et le mot de passe du détenteur de l'adresse 'mp@chez.moi' ?</li></ol>"
   ]
  },
  {
   "cell_type": "markdown",
   "metadata": {},
   "source": [
    "## Représenter des données\n",
    "\n",
    "Les données ont été stockées dans trois listes : $\\texttt{Smart, Classique}$ et $\\texttt{Aucun}$  \n"
   ]
  },
  {
   "cell_type": "code",
   "execution_count": null,
   "metadata": {},
   "outputs": [],
   "source": [
    "from matplotlib.pyplot import *\n",
    "Annee=[2011,2012,2013,2014,2015,2016,2017,2018]\n",
    "Smart=[17,29,39,46,58,65,73,75]\n",
    "Classique=[67,59,50,43,34,28,21,19]\n",
    "Aucun=[15,12,11,11,8,7,6,6]"
   ]
  },
  {
   "cell_type": "code",
   "execution_count": null,
   "metadata": {},
   "outputs": [],
   "source": [
    "title('Évolution équipement en smarthphone')\n",
    "bar(Annee,Smart)\n",
    "show()"
   ]
  },
  {
   "cell_type": "code",
   "execution_count": null,
   "metadata": {},
   "outputs": [],
   "source": [
    "title('Évolution équipement en téléphonie mobile')\n",
    "plot(Annee,Smart,'b' ,label='smartphone' )\n",
    "plot(Annee,Classique,'r',label='mobile classique')\n",
    "plot(Annee,Aucun,'gold',label='pas de mobile')\n",
    "legend()\n",
    "show()"
   ]
  },
  {
   "cell_type": "markdown",
   "metadata": {},
   "source": [
    "#### Pour sauvegarder vos figures :\n",
    "\n",
    "savefig('image.png', dpi = 600) : fixe la résolution.\n",
    "savefig('image.png', transparent = True) : fond transparent.\n",
    "savefig('image, format = 'pdf') : indique le format. Les formats supportés sont : png, pdf, eps, svg, sinon le format est deviné d'après l'extension du fichier."
   ]
  },
  {
   "cell_type": "code",
   "execution_count": null,
   "metadata": {},
   "outputs": [],
   "source": [
    "title('Évolution équipement en smarthphone')\n",
    "bar(Annee,Smart,color='r')\n",
    "savefig('graphe1.png')"
   ]
  },
  {
   "cell_type": "code",
   "execution_count": null,
   "metadata": {},
   "outputs": [],
   "source": []
  }
 ],
 "metadata": {
  "kernelspec": {
   "display_name": "Python 3 (ipykernel)",
   "language": "python",
   "name": "python3"
  },
  "language_info": {
   "codemirror_mode": {
    "name": "ipython",
    "version": 3
   },
   "file_extension": ".py",
   "mimetype": "text/x-python",
   "name": "python",
   "nbconvert_exporter": "python",
   "pygments_lexer": "ipython3",
   "version": "3.9.12"
  }
 },
 "nbformat": 4,
 "nbformat_minor": 2
}
