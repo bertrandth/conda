{
 "cells": [
  {
   "cell_type": "markdown",
   "metadata": {},
   "source": [
    "# 1er programme : le jeu du c'est plus ou c'est moins\n",
    "\n",
    "Dans cette activité, nous allons voir comment mettre en place un programme permettant de trouver un nombre choisi aléatoirement par l'ordinateur.\n",
    "\n",
    "**Si vous utilisez une version statique du document** (html, pdf ou papier), il vous faut copier les blocs de code dans un éditeur Python, puis les compléter. Ces différents blocs de code peuvent être copié dans le même fichier Python.\n",
    "\n",
    "**Si vous utilisez la version Jupyter du document**, vous pouvez compléter les bloc de code ci-dessous et les exécuter avec le bouton Exécuter ou les touches Ctrl + Entrée. Il vous faut exécuter les blocs de code dans l'ordre de la page.\n",
    "\n",
    "Par la suite, nous allons voir comment décortiquer le programme afin qu'il réalise l'objectif fixé. **Vous devez remplacer les ` # A REMPLACER ` par le code nécessaire.**"
   ]
  },
  {
   "cell_type": "markdown",
   "metadata": {},
   "source": [
    "Dans un premier temps, nous allons faire choisir un nombre aléatoire entre 1 et 99 à l'ordiateur."
   ]
  },
  {
   "cell_type": "code",
   "execution_count": null,
   "metadata": {},
   "outputs": [],
   "source": [
    "from random import randint  # import de la librairie random\n",
    "\n",
    "resultat =   # A REMPLACER  # L'ordinateur choisit aleatoirement un nombre entre 1 et 99"
   ]
  },
  {
   "cell_type": "markdown",
   "metadata": {},
   "source": [
    "Ensuite nous allons demander à l'utilisateur de proposer une valeur.  \n",
    "A quoi sert l'instruction `input` ?  \n",
    "Que fait la ligne suivante ?"
   ]
  },
  {
   "cell_type": "code",
   "execution_count": null,
   "metadata": {},
   "outputs": [],
   "source": [
    "reponse = int(input(\"Choisis un nombre entre 1 et 99 : \"))  # choix de l'utilisateur"
   ]
  },
  {
   "cell_type": "markdown",
   "metadata": {},
   "source": [
    "On veut savoir si la valeur choisie par l'utilisateur est trop petite ou trop grande.  \n",
    "*Ne nous occupons pas pour l'instant du cas peu probable où l'utilisateur aurait le bon résultat.*  \n",
    "Quelle instruction utiliser pour tester une condition ?"
   ]
  },
  {
   "cell_type": "code",
   "execution_count": null,
   "metadata": {},
   "outputs": [],
   "source": [
    "# A REMPLACER  : # Dans quel cas afficher que ce n'est pas assez ?\n",
    "    print(\"C'est pas assez\")\n",
    "else:\n",
    "    # A REMPLACER  # Afficher que c'est trop "
   ]
  },
  {
   "cell_type": "markdown",
   "metadata": {},
   "source": [
    "On veut maintenant répéter ce test afin de trouver la bonne valeur.  \n",
    "Quelle instruction utiliser pour cette répétition ?  \n",
    "Connait-on à l'avance le nombre de répétitions à faire ?  \n",
    "Quelle est la condition d'arrêt ?"
   ]
  },
  {
   "cell_type": "code",
   "execution_count": null,
   "metadata": {},
   "outputs": [],
   "source": [
    "# A REMPLACER : # tant que quelle condition n'est pas réalisée ?\n",
    "    \n",
    "    # A REMPLACER  # Test de la valeur proposée par l'utilisateur\n",
    "    \n",
    "    reponse = # A REMPLACER  # On redemande a l'utilisateur de choisir un nombre\n",
    "#               Cette nouvelle valeur sera rétutilisée pour le prochain passage de la boucle.\n"
   ]
  },
  {
   "cell_type": "markdown",
   "metadata": {},
   "source": [
    "On peut alors indiquer à l'utilisateur qu'il a gagné.  \n",
    "Que fait cette instruction ?"
   ]
  },
  {
   "cell_type": "code",
   "execution_count": null,
   "metadata": {},
   "outputs": [],
   "source": [
    "print(\"Gagné ! Le résultat est bien \"+str(resultat))  # On indique à l'utilisateur qu'il a gagné !"
   ]
  },
  {
   "cell_type": "markdown",
   "metadata": {},
   "source": [
    "On obtient alors le programme complet suivant, en remplacant les différentes parties par les blocs de code étudiés ci-dessus."
   ]
  },
  {
   "cell_type": "code",
   "execution_count": null,
   "metadata": {
    "scrolled": true
   },
   "outputs": [],
   "source": [
    "# A REMPLACER  # import de la librairie random\n",
    "\n",
    "# A REMPLACER  # L'ordinateur choisit aleatoirement un nombre entre 1 et 99\n",
    "# A REMPLACER  # choix de l'utilisateur\n",
    "\n",
    "# A REMPLACER : # tant que quelle condition n'est pas réalisée ?\n",
    "    \n",
    "    # A REMPLACER  # Test de la valeur proposée par l'utilisateur\n",
    "    \n",
    "    reponse = # A REMPLACER  # On redemande a l'utilisateur de choisir un nombre\n",
    "\n",
    "# A REMPLACER  # On indique à l'utilisateur qu'il a gagné !"
   ]
  },
  {
   "cell_type": "markdown",
   "metadata": {},
   "source": [
    "Voila une méthode pour programmer un programme.  \n",
    "D'une manière générale, il faut avancer par petits morceaux, les tester séparément puis les assembler ensemble, à l'image d'un jeu de lego où il faut assembler des briques élémentaires pour réaliser une structure."
   ]
  },
  {
   "cell_type": "markdown",
   "metadata": {},
   "source": [
    "#### Pour aller plus loin\n",
    "Vous pouvez maintenant améliorer votre programme pour afficher à la fin le nombre d'éssais qui auront été nécessaires à l'utilisateur pour gagné."
   ]
  }
 ],
 "metadata": {
  "kernelspec": {
   "display_name": "Python 3",
   "language": "python",
   "name": "python3"
  },
  "language_info": {
   "codemirror_mode": {
    "name": "ipython",
    "version": 3
   },
   "file_extension": ".py",
   "mimetype": "text/x-python",
   "name": "python",
   "nbconvert_exporter": "python",
   "pygments_lexer": "ipython3",
   "version": "3.7.3"
  }
 },
 "nbformat": 4,
 "nbformat_minor": 4
}
