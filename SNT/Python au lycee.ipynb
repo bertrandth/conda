{
 "cells": [
  {
   "cell_type": "markdown",
   "metadata": {},
   "source": [
    "# Découverte de Python"
   ]
  },
  {
   "cell_type": "markdown",
   "metadata": {},
   "source": [
    "# Sommaire\n",
    "\n",
    "* [Qu'est-ce que Python](#Qu'est-ce-que-Python)\n",
    "* [Les opérations de base](#Les-op%C3%A9rations-de-base)\n",
    "* [Les variables](#Les-variables)\n",
    "* [Les instructions conditionnelles](#Les-instructions-conditionnelles)\n",
    "* [Les boucles](#Les-boucles)\n",
    "* [Les fonctions](#Les-fonctions)\n"
   ]
  },
  {
   "cell_type": "markdown",
   "metadata": {},
   "source": [
    "# Qu'est-ce que Python\n",
    "Le Python est un langage de programmation. Il peut être utilisé dans plusieurs environnement :\n",
    "\n",
    "* La console que l'on retrouve dans une partie de l'écran de tous les autres environnements ;\n",
    "* des éditeurs de texte (Wing IDE, Pyzo, Spyder, Edupython, ...)\n",
    "* des sites web :\n",
    "    * [Trinket.io](https://trinket.io/python)\n",
    "    * [Repl.it](https://repl.it/)\n",
    "\n",
    "La console est en général repérable par ses début de ligne `>>>`. Elle permet d'exécuter une instruction à la fois, et fait apparaître sur la ligne suivante le résultat. Sur cette page, les instructions seront repérées par leur préfixe `In[]` ou `Entrée[]` et les sorties par `Out[]`\n",
    "\n",
    "Au contraire, l'éduteur de texte permet de rassembler un ensemble d'instruction dans un fichier et de les exécuter l'une après l'autre. Les résultats de chaque instruction ne sont plus affiché, mais il est possible de forcer leur affichage à la'aide de la commande `print`.\n",
    "\n",
    "Question syntaxe, les commentaires sont précédés du caractère dièse (`#`) et le langage est sensible à la casse (différence entre majuscule et minuscule).  \n",
    "Il n'est en revanche pas sensible aux espaces (aucun, un ou plusieurs) sauf en début de ligne ou l'intentation permet de définir les blocs de code."
   ]
  },
  {
   "cell_type": "markdown",
   "metadata": {},
   "source": [
    "# Les opérations de base\n",
    "\n",
    "### Opérations sur des nombres\n",
    "\n",
    "Tout d'abord, Python est capable de faire un certains nombres de calculs mathématiques"
   ]
  },
  {
   "cell_type": "code",
   "execution_count": null,
   "metadata": {},
   "outputs": [],
   "source": [
    "3 + 5 - 1"
   ]
  },
  {
   "cell_type": "code",
   "execution_count": null,
   "metadata": {},
   "outputs": [],
   "source": [
    "4 * 2"
   ]
  },
  {
   "cell_type": "code",
   "execution_count": null,
   "metadata": {},
   "outputs": [],
   "source": [
    "7 / 2  # On remarque que la virgule est codée par un point en Python"
   ]
  },
  {
   "cell_type": "markdown",
   "metadata": {},
   "source": [
    "#### Autres opérations"
   ]
  },
  {
   "cell_type": "code",
   "execution_count": null,
   "metadata": {},
   "outputs": [],
   "source": [
    "7 // 2 # quotient de la division de 7 par 2 - ou entier inférieur du résultat de la division"
   ]
  },
  {
   "cell_type": "code",
   "execution_count": null,
   "metadata": {},
   "outputs": [],
   "source": [
    "7 % 2 # reste de la division de 7 par 2 --  7 = 2x3 + 1 -- on dit aussi 7 modulo 2"
   ]
  },
  {
   "cell_type": "code",
   "execution_count": null,
   "metadata": {},
   "outputs": [],
   "source": [
    "2**3 # 2 puissance 3"
   ]
  },
  {
   "cell_type": "code",
   "execution_count": null,
   "metadata": {},
   "outputs": [],
   "source": [
    "from math import sqrt\n",
    "sqrt(2) # racine carrée (square root)"
   ]
  },
  {
   "cell_type": "markdown",
   "metadata": {},
   "source": [
    "Plus d'info sur [les nombres](https://snakify.org/fr/lessons/integer_float_numbers/)."
   ]
  },
  {
   "cell_type": "markdown",
   "metadata": {},
   "source": [
    "### Opérations sur des chaînes de caractères\n",
    "\n",
    "On peut aussi réaliser des opérations sur des chaînes de caractères. Par exemple :"
   ]
  },
  {
   "cell_type": "code",
   "execution_count": null,
   "metadata": {},
   "outputs": [],
   "source": [
    "'Bonjour ' + 'tout le monde'"
   ]
  },
  {
   "cell_type": "code",
   "execution_count": null,
   "metadata": {},
   "outputs": [],
   "source": [
    "chaine = 'Bonjour'\n",
    "chaine[0] # 1er caractère"
   ]
  },
  {
   "cell_type": "code",
   "execution_count": null,
   "metadata": {},
   "outputs": [],
   "source": [
    "chaine[1:4] # 2e caractère au 5e exclu"
   ]
  },
  {
   "cell_type": "markdown",
   "metadata": {},
   "source": [
    "Plus d'info sur [les chaînes](https://snakify.org/fr/lessons/strings_str/) et [les sous-chaînes](https://snakify.org/fr/lessons/strings_str/#section_2)."
   ]
  },
  {
   "cell_type": "markdown",
   "metadata": {},
   "source": [
    "### Types de données différents\n",
    "\n",
    "En revanche, il faut être attentif à ne pas mélanger les types de données. Par exemple :"
   ]
  },
  {
   "cell_type": "code",
   "execution_count": null,
   "metadata": {},
   "outputs": [],
   "source": [
    "'5' + 4"
   ]
  },
  {
   "cell_type": "code",
   "execution_count": null,
   "metadata": {},
   "outputs": [],
   "source": [
    "2.5 * 2"
   ]
  },
  {
   "cell_type": "markdown",
   "metadata": {},
   "source": [
    "# Les variables\n",
    "\n",
    "Les variables peuvent être vues comme des boîtes qui contiendraient une valeur et que l'on différenciraient l'une de l'autre à l'aide d'une étiquette collée sur cette boîte. L'étiquette serait alors le nom de la variable et le contenu sa valeur.\n",
    "\n",
    "Le signe `=` en Python ne signifie pas l'égalité comme en mathématiques, mais que l'on attribue la valeur de droite à la variable placée à gauche de ce symbole.  \n",
    "`a=5` signifie donc on attribue la valeur `5` à la variable `a`, noté `a <-- 5` en algorithmie.\n",
    "\n",
    "**<font color='red'>Attention !</font>** Pour pouvoir utiliser une variable, il faut **ABSOLUMENT** lui avoir attribué une valeur.  \n",
    "**Pensez à initialiser systématiquement vos variables en début de programme !**"
   ]
  },
  {
   "cell_type": "code",
   "execution_count": null,
   "metadata": {},
   "outputs": [],
   "source": [
    "a = 5\n",
    "b = 3\n",
    "c = a + b\n",
    "b = b + 1"
   ]
  },
  {
   "cell_type": "code",
   "execution_count": null,
   "metadata": {},
   "outputs": [],
   "source": [
    "b"
   ]
  },
  {
   "cell_type": "code",
   "execution_count": null,
   "metadata": {},
   "outputs": [],
   "source": [
    "c"
   ]
  },
  {
   "cell_type": "markdown",
   "metadata": {},
   "source": [
    "Le nom des variables peut être composé de plusieurs caractères (uniquement lettres, nombres et \\_). Le nom doit néanmoins commencer obligatoirement par une lettre. Par exemple `somme` ou `Calcul_en_cours` sont des noms de variables valides. On s'efforcera aussi de donner des noms compréhensibles à nos variables.\n",
    "\n",
    "**<font color='red'>Attention !</font>** La casse est importante en Python ; Ainsi `SOMME`, `Somme` et `somme` sont les noms de trois variables différentes."
   ]
  },
  {
   "cell_type": "markdown",
   "metadata": {},
   "source": [
    "### Type des variables\n",
    "\n",
    "Comme indiqué précédement, il faut faire attention au type de la donnée stockée dans une variable lorsque l'on souhaite effectuer des opérations mettant en oeuvre des variables. On peut connaitre le type d'une variable grâce à l'instruction `type`. Les types que l'on manipulera cette année seront :\n",
    "\n",
    "* `int` : des entiers -- *integer en anglais*  (exemple 3 ou -5 ou 10000)\n",
    "* `float` : des réels -- *pour flottants*  (exemple 2.5 ou 7.0)\n",
    "* `str` : des chaînes de caractères -- *entourées de guillemets simples ou doubles* (exemple 'Bonjour', \"a\" ou \"5\")\n",
    "* `list` : des tableaux de données, pour la fin d'année."
   ]
  },
  {
   "cell_type": "code",
   "execution_count": null,
   "metadata": {},
   "outputs": [],
   "source": [
    "type(a)"
   ]
  },
  {
   "cell_type": "markdown",
   "metadata": {},
   "source": [
    "Il est également possible de convertir une variable d'un type à l'autre. Par exemple :\n",
    "\n",
    "* `float(8)` retournera le réel 8.0;\n",
    "* `int(8.0)`, `int(8.9)` et `int(\"8\")` retourneront l'entier 8 ;\n",
    "* `str(8)` retournera la chaîne de caractère \"8\"."
   ]
  },
  {
   "cell_type": "code",
   "execution_count": null,
   "metadata": {},
   "outputs": [],
   "source": [
    "str(a) + str(b)"
   ]
  },
  {
   "cell_type": "markdown",
   "metadata": {},
   "source": [
    "# Les instructions conditionnelles\n",
    "\n",
    "En Python comme dans quasiment tout langage de programmation il est possible de coder des comportement en fonction de conditions. Il s'agit du bloc si sinon-si sinon :\n",
    "\n",
    "    if condition1 :\n",
    "        ... \n",
    "    elif condition2 :\n",
    "        ... \n",
    "    else` :\n",
    "        ...\n",
    "    [suite du code]\n",
    "\n",
    "Il peut y avoir autant de `elif` que nécessaire, et il peut ne pas y avoir de `elif` ou de `else`.\n",
    "\n",
    "**<font color=\"red\">Attention à ces deux points importants</font>** :\n",
    "\n",
    "* Ce qui délimite en Python le début et la fin du bloc est uniquement l'**indentation** (le nombre d'espace en début de ligne). Ce nombre d'espace est libre, mais il est conseillé d'en mettre 4 par bloc. Il faut en tout cas le même nombre d'espaces pour toutes les instructions d'un même bloc.\n",
    "* aux **deux-points** en fin de ligne (surtout pour le `else`)."
   ]
  },
  {
   "cell_type": "code",
   "execution_count": null,
   "metadata": {},
   "outputs": [],
   "source": [
    "if a > 0 :\n",
    "    print('a est positif')\n",
    "else:\n",
    "    print('a est négatif')"
   ]
  },
  {
   "cell_type": "markdown",
   "metadata": {},
   "source": [
    "### Conditions\n",
    "\n",
    "Les conditions sont considérées comme des *booléens* qui peuvent être soient vraies (`True`), soient fausses (`False`). Pour réaliser ces conditions, on peut utiliser les opérateurs mathématiques d'égalité, d'infériorité ou de supériorité.\n",
    "\n",
    "    somme == 10         # est vrai lorsque somme vaut 10\n",
    "    denominateur != 0   # est vrai lorsque denominateur est différent de 0\n",
    "    moyenne >= 12       # est vrai lorsque moyenne est supérieur ou égale à 12\n",
    "\n",
    "**<font color='red'>Attention</font>** à bien différencier l'affectation d'une variable et le test d'égalité.  \n",
    "`somme = 0` : on attribue la valeur 0 à la variable somme.  \n",
    "`moyenne == 12` ou `12 == moyenne` : on teste si la valeur de la variable *moyenne* est de 12."
   ]
  },
  {
   "cell_type": "code",
   "execution_count": null,
   "metadata": {},
   "outputs": [],
   "source": [
    "a == 5"
   ]
  },
  {
   "cell_type": "markdown",
   "metadata": {},
   "source": [
    "On a aussi la possibilité de combiner plusieurs conditions ensemble grâce aux opérations logiques et (`and`), ou (`or`) et la négation (`not`). Par exemple `if heure == 23 and minute == 59: #...`"
   ]
  },
  {
   "cell_type": "markdown",
   "metadata": {},
   "source": [
    "# Les boucles\n",
    "\n",
    "En Python il existe 2 types de boucles possibles en fonction que l'on connaisse au départ le nombre de répétitions à faire (boucles bornées) ou non.\n",
    "\n",
    "### Les boucles bornées\n",
    "On les utilise si **on connait le nombre de répétitions à faire**.  \n",
    "Par exemple, on code une minuterie pour *n* secondes, on parcourt les *n* fichiers d'un répertoire, on modifie les *n* pixels d'une image ou bien on lit les *n* lettres d'une chaîne de caractère.\n",
    "\n",
    "La boucle bornée est introduite à l'aide de l'instruction `for` dont la syntaxe est:\n",
    "\n",
    "    for i in range(n) :\n",
    "        # bloc à répéter n fois, i prenant la valeur 0, puis 1, puis 2, jusque n-1 inclus.\n",
    "\n",
    "\n",
    "La fonction `range` peut prendre 1, 2 ou 3 arguments :\n",
    "\n",
    "* `i in range(fin)` : i prend les valeurs de 0 à *fin-1*\n",
    "* `i in range(debut, fin)` : i prend les valeurs de *debut* à *fin-1*\n",
    "* `i in range(debut, fin, pas)` : i prend les valeurs *debut*, *debut + pas*, *debut + 2 pas*, ..., jusqu'à atteindre ou dépasser *fin-1*.\n"
   ]
  },
  {
   "cell_type": "code",
   "execution_count": null,
   "metadata": {},
   "outputs": [],
   "source": [
    "for i in range(5,0, -1) :\n",
    "    print(i)\n",
    "print('Go !')  # On note l'absence d'indentation pour indiquer que cette instruction ne fait pas partie de la boucle."
   ]
  },
  {
   "cell_type": "markdown",
   "metadata": {},
   "source": [
    "### Les boucles non bornées\n",
    "On les utilise si **on connait la condition d'arrêt** et non pas le nombre de répétitions à effectuer.  \n",
    "Par exemple, répéter un calcul tant qu'un certain seuil n'est pas atteint.\n",
    "\n",
    "La boucle non bornée est introduite à l'aide de l'instruction `while` dont la syntaxe réutilise les [conditions](#Conditions) définies pour l'instruction conditionnelle `if` :\n",
    "\n",
    "    while condition :\n",
    "        # bloc à répéter tant que la condition est vraie et de s'arrêter lorqu'elle devienne fausse\n",
    "\n",
    "**<font color='red'>Attention</font>** à modifier dans le bloc une variable, afin de permettre à la condition d'être atteinte.\n",
    "\n",
    "**Attention à ces deux autres points toujours importants** :\n",
    "\n",
    "* Ce qui délimite en Python le début et la fin du bloc est uniquement l'**indentation** (le nombre d'espace en début de ligne). Ce nombre d'espace est libre, mais il est conseillé d'en mettre 4 par bloc. Il faut en tout cas le même nombre d'espaces pour toutes les instructions d'un même bloc.\n",
    "* aux **deux-points** en fin de la 1ère ligne."
   ]
  },
  {
   "cell_type": "code",
   "execution_count": null,
   "metadata": {},
   "outputs": [],
   "source": [
    "somme = 0\n",
    "i = 0\n",
    "while somme < 200 : # Modifiez la valeur\n",
    "    i = i+1\n",
    "    somme = somme + i\n",
    "print(\"1 + ... +\", i, \"=\", somme)"
   ]
  },
  {
   "cell_type": "markdown",
   "metadata": {},
   "source": [
    "# Les fonctions\n",
    "\n",
    "L'objectif des fonctions en algorithmie est de regrouper un morceau de code qui traite une tâche précise (qui dépend du programme) et qui pourra éventuellement être réutilisée plusieurs fois.\n",
    "\n",
    "On peut définir des fonctions telles qu'on les connait en mathématiques au lycée. Par exemple la fonction `f(x) = 2x + 5` pourrait être définie en Python par:"
   ]
  },
  {
   "cell_type": "code",
   "execution_count": null,
   "metadata": {},
   "outputs": [],
   "source": [
    "def f(x) :\n",
    "    y = 2*x + 5\n",
    "    return y"
   ]
  },
  {
   "cell_type": "code",
   "execution_count": null,
   "metadata": {},
   "outputs": [],
   "source": [
    "f(5)"
   ]
  },
  {
   "cell_type": "markdown",
   "metadata": {},
   "source": [
    "Une fonction est introduite par le mot-clé `def`, suivi du nom de la fonction, puis des arguments entre parenthèses et d'un point, puis d'un bloc d'instruction indenté appelé corps de la fonction.  \n",
    "Contrairement à ce que l'on utilise en mathématiques, elle peut avoir plusieurs arguments (séparé alors par une virgule) comme aucun.  \n",
    "La valeur qu'elle retourne est indiqué par l'instruction `return`, mais là encore ce n'est pas obligatoire.\n",
    "\n",
    "**Attention à ces deux points toujours importants** :\n",
    "\n",
    "* Ce qui délimite en Python le début et la fin du bloc est uniquement l'**indentation** (le nombre d'espace en début de ligne). Ce nombre d'espace est libre, mais il est conseillé d'en mettre 4 par bloc. Il faut en tout cas le même nombre d'espaces pour toutes les instructions d'un même bloc.\n",
    "* aux **deux-points** en fin de la 1ère ligne."
   ]
  },
  {
   "cell_type": "code",
   "execution_count": null,
   "metadata": {},
   "outputs": [],
   "source": [
    "def moyenne(a, b):\n",
    "    return (a+b)/2\n",
    "\n",
    "from random import randint\n",
    "def lancé_dé():\n",
    "    dé = randint(1,6)\n",
    "    print(dé)"
   ]
  },
  {
   "cell_type": "code",
   "execution_count": null,
   "metadata": {},
   "outputs": [],
   "source": [
    "moyenne(11,16)"
   ]
  },
  {
   "cell_type": "code",
   "execution_count": null,
   "metadata": {},
   "outputs": [],
   "source": [
    "lancé_dé()"
   ]
  },
  {
   "cell_type": "markdown",
   "metadata": {},
   "source": [
    "### Tests unitaires\n",
    "\n",
    "Une fois une fonction codée, il est important de faire tester à la machine que pour certaines entrées choisies, la valeur retournée est celle attendue. \n",
    "\n",
    "Pour cela, on utilise l'instruction `assert` suivie du test à effectuer. Dans le cas où un test n'est pas vérifié, Python génèrera une erreur et nous indiquera clairement la cause du problème."
   ]
  },
  {
   "cell_type": "code",
   "execution_count": null,
   "metadata": {},
   "outputs": [],
   "source": [
    "assert moyenne(1, 19) == 10\n",
    "assert moyenne(-10, 10) == 0\n",
    "assert moyenne(10, 13)  == 3"
   ]
  }
 ],
 "metadata": {
  "kernelspec": {
   "display_name": "Python 3",
   "language": "python",
   "name": "python3"
  },
  "language_info": {
   "codemirror_mode": {
    "name": "ipython",
    "version": 3
   },
   "file_extension": ".py",
   "mimetype": "text/x-python",
   "name": "python",
   "nbconvert_exporter": "python",
   "pygments_lexer": "ipython3",
   "version": "3.7.3"
  }
 },
 "nbformat": 4,
 "nbformat_minor": 2
}
