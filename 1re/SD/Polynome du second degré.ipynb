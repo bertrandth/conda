{
 "cells": [
  {
   "cell_type": "markdown",
   "metadata": {
    "nbgrader": {
     "grade": false,
     "grade_id": "cell-d9ba19554cd4b89a",
     "locked": true,
     "schema_version": 1,
     "solution": false
    }
   },
   "source": [
    "Noms et prénoms du binome :"
   ]
  },
  {
   "cell_type": "markdown",
   "metadata": {
    "nbgrader": {
     "grade": true,
     "grade_id": "cell-7b535f8957fa16ad",
     "locked": false,
     "points": 1,
     "schema_version": 1,
     "solution": true
    }
   },
   "source": []
  },
  {
   "cell_type": "markdown",
   "metadata": {
    "nbgrader": {
     "grade": false,
     "grade_id": "cell-810f3a7c3995480b",
     "locked": true,
     "schema_version": 1,
     "solution": false
    }
   },
   "source": [
    "## Polynômes du second degré\n",
    "\n",
    "Nous allons travailler dans cette activité sur l'utilisation des algorithmes et de la programmation pour résoudre des équations du second degré.\n",
    "\n",
    "Dans ce document, les cellules de code sont à exécuter soit à l'aide du bouton Exécuter ci-dessus, soit à l'aide des combinaisons de touches Ctrl + Entrée. Les cellules de code sont librement modifiable, il faut ensuite les ré-exécuter.\n",
    "\n",
    "Les `# A REMPLACER` sont à remplacer par les instructions Python adéquates."
   ]
  },
  {
   "cell_type": "markdown",
   "metadata": {
    "nbgrader": {
     "grade": false,
     "grade_id": "cell-00f4aff559b07c07",
     "locked": true,
     "schema_version": 1,
     "solution": false
    }
   },
   "source": [
    "### 1) Exercice\n",
    "Pour commencer, nous allons compléter le programme Python suivant qui demande les coefficients d'un polynôme du second degré $ax^2+bx+c$ et qui annonce le nombre de racines dupolynôme et les affiche s'il y en a."
   ]
  },
  {
   "cell_type": "code",
   "execution_count": null,
   "metadata": {},
   "outputs": [],
   "source": [
    "from math import sqrt\n",
    "\n",
    "a = float(input('Saisir la valeur du paramètre a :'))\n",
    "b = float(input('Saisir la valeur du paramètre b :'))\n",
    "c = float(input('Saisir la valeur du paramètre c :'))\n",
    "\n",
    "delta = # A REMPLACER\n",
    "\n",
    "if delta == 0:\n",
    "    r1 = # A REMPLACER\n",
    "    print('...')\n",
    "elif delta > 0 :\n",
    "    r1 = # A REMPLACER\n",
    "    r2 = # A REMPLACER\n",
    "    print('...')\n",
    "else :\n",
    "    print('...')"
   ]
  },
  {
   "cell_type": "markdown",
   "metadata": {
    "nbgrader": {
     "grade": false,
     "grade_id": "cell-69d875f3d69b936e",
     "locked": true,
     "schema_version": 1,
     "solution": false
    }
   },
   "source": [
    "1.1) Compléter ce programme afin qu'il fonctionne\n",
    "\n",
    "_Note:_ l'instruction `print` peut prendre plusieurs arguments, par exemple  `print('afficher', a, 'et', b) `"
   ]
  },
  {
   "cell_type": "code",
   "execution_count": null,
   "metadata": {},
   "outputs": [],
   "source": [
    "print('afficher', 5, 'et', 2)"
   ]
  },
  {
   "cell_type": "markdown",
   "metadata": {
    "nbgrader": {
     "grade": false,
     "grade_id": "cell-ae658d5e92726214",
     "locked": true,
     "schema_version": 1,
     "solution": false
    }
   },
   "source": [
    "1.2) Sur la première ligne, à quoi sert l'instruction `input` ? Et l'instruction `float` ?"
   ]
  },
  {
   "cell_type": "markdown",
   "metadata": {
    "nbgrader": {
     "grade": true,
     "grade_id": "cell-bb42641fd934eb83",
     "locked": false,
     "points": 2,
     "schema_version": 1,
     "solution": true
    }
   },
   "source": []
  },
  {
   "cell_type": "markdown",
   "metadata": {
    "nbgrader": {
     "grade": false,
     "grade_id": "cell-ae9d3c2a54be2ab9",
     "locked": true,
     "schema_version": 1,
     "solution": false
    }
   },
   "source": [
    "1.3) Sur la 7e ligne démarrant par `if`, pourquoi y a-t-il deux signes égal (`==`) et non pas un seul ?"
   ]
  },
  {
   "cell_type": "markdown",
   "metadata": {
    "nbgrader": {
     "grade": true,
     "grade_id": "cell-80fe44fc28ed7bf4",
     "locked": false,
     "points": 1,
     "schema_version": 1,
     "solution": true
    }
   },
   "source": []
  },
  {
   "cell_type": "markdown",
   "metadata": {
    "nbgrader": {
     "grade": false,
     "grade_id": "cell-ab0586d689cc9584",
     "locked": true,
     "schema_version": 1,
     "solution": false
    }
   },
   "source": [
    "### 2) Création d'une fonction renvoyant le nombre de solutions d'un polynome\n",
    "On va maintenant modifier le programme afin qu'un fonction se charge du calcul du nombre de solutions.\n",
    "\n",
    "2.1) On va donc définir une fonction `nb_sol_polynome` qui prendra en paramètre les arguments `a`, `b` et `c`. On utilisera l'instruction `return` pour renvoyer la valeur de retour."
   ]
  },
  {
   "cell_type": "code",
   "execution_count": null,
   "metadata": {},
   "outputs": [],
   "source": [
    "def nb_sol_polynome(a, b, c):\n",
    "    assert(a != 0)\n",
    "    \n",
    "    delta = # A REMPLACER\n",
    "    \n",
    "    if ## A REMPLACER :\n",
    "        return # A REMPLACER\n",
    "    # A REMPLACER"
   ]
  },
  {
   "cell_type": "markdown",
   "metadata": {
    "nbgrader": {
     "grade": false,
     "grade_id": "cell-3d684d0928609272",
     "locked": true,
     "schema_version": 1,
     "solution": false
    }
   },
   "source": [
    "Ensuite on pourra appeler cette fonction pour obtenir le nombre de solution."
   ]
  },
  {
   "cell_type": "code",
   "execution_count": null,
   "metadata": {},
   "outputs": [],
   "source": [
    "nb_sol_polynome(2, 1, 5)"
   ]
  },
  {
   "cell_type": "code",
   "execution_count": null,
   "metadata": {},
   "outputs": [],
   "source": [
    "nb_sol_polynome(0, 1, 5)"
   ]
  },
  {
   "cell_type": "markdown",
   "metadata": {
    "nbgrader": {
     "grade": false,
     "grade_id": "cell-4fac053b5a918bc5",
     "locked": true,
     "schema_version": 1,
     "solution": false
    }
   },
   "source": [
    "2.2) A quoi sert l'instruction `assert(a != 0)` au début de la fonction ?"
   ]
  },
  {
   "cell_type": "markdown",
   "metadata": {
    "nbgrader": {
     "grade": true,
     "grade_id": "cell-50852c519fd5a416",
     "locked": false,
     "points": 1,
     "schema_version": 1,
     "solution": true
    }
   },
   "source": []
  },
  {
   "cell_type": "markdown",
   "metadata": {
    "nbgrader": {
     "grade": false,
     "grade_id": "cell-cbfee490e8055f87",
     "locked": true,
     "schema_version": 1,
     "solution": false
    }
   },
   "source": [
    "On peut aussi faire vérifier automatiquement à Python que la fonction parait fonctionner comme on le souhaite en testant quelques exemples. \n",
    "\n",
    "**Python va générer une erreur uniquement si une des fonction n'a pas renvoyé le résultat attendu.** Dans ce cas, corriger votre fonction afin que le résultat renvoyé soit correct."
   ]
  },
  {
   "cell_type": "code",
   "execution_count": null,
   "metadata": {
    "nbgrader": {
     "grade": true,
     "grade_id": "cell-d55cde5b4b5bef2d",
     "locked": true,
     "points": 6,
     "schema_version": 1,
     "solution": false
    }
   },
   "outputs": [],
   "source": [
    "assert nb_sol_polynome(2, -1, 5) == 0\n",
    "assert nb_sol_polynome(-2, 5, 1) == 2\n",
    "assert nb_sol_polynome(1, 0, 0) == 1\n",
    "### BEGIN HIDDEN TESTS\n",
    "assert nb_sol_polynome(1, 1, -1) == 2\n",
    "assert nb_sol_polynome(1, -3, 4) == 0\n",
    "assert nb_sol_polynome(1, -2, 1) == 1\n",
    "### END HIDDEN TESTS"
   ]
  },
  {
   "cell_type": "markdown",
   "metadata": {
    "nbgrader": {
     "grade": false,
     "grade_id": "cell-4defd0aa4e103c32",
     "locked": true,
     "schema_version": 1,
     "solution": false
    }
   },
   "source": [
    "### 3) Création d'une fonction qui renvoie les solutions approchées d'un polynome\n",
    "\n",
    "3.1) On cherche maintenant à créer une nouvelle fonction `solutions_polynome` qui prend également 3 arguments en paramètre et qui renvoie les solutions sous forme de tableau, et rangées par ordre croissant.\n",
    "\n",
    "_Note :_ Un tableau de valeur est défini avec des crochets et en utilisant la virgule pour séparer les éléments. Par exemple, `[-1.5, 5]`, `[0.33333333]` ou `[]`"
   ]
  },
  {
   "cell_type": "code",
   "execution_count": null,
   "metadata": {},
   "outputs": [],
   "source": [
    "def solutions_polynome(a, b, c):\n",
    "    # A REMPLACER\n"
   ]
  },
  {
   "cell_type": "code",
   "execution_count": null,
   "metadata": {},
   "outputs": [],
   "source": [
    "solutions_polynome(-2, 5, 1)"
   ]
  },
  {
   "cell_type": "code",
   "execution_count": null,
   "metadata": {
    "nbgrader": {
     "grade": true,
     "grade_id": "cell-0c814118388abe68",
     "locked": true,
     "points": 6,
     "schema_version": 1,
     "solution": false
    }
   },
   "outputs": [],
   "source": [
    "assert solutions_polynome(-2, 5, 1) == [-0.18614066163450715, 2.686140661634507]\n",
    "assert solutions_polynome(-2, -5, 1) == [-2.686140661634507, 0.18614066163450715]\n",
    "assert solutions_polynome(1, 0, 0) == [0.0]\n",
    "### BEGIN HIDDEN TESTS\n",
    "assert solutions_polynome(1, 1, -1) == [-1.618033988749895, 0.6180339887498949]\n",
    "assert solutions_polynome(1, -3, 4) == []\n",
    "assert solutions_polynome(1, -2, 1) == [1.0]\n",
    "### END HIDDEN TESTS"
   ]
  }
 ],
 "metadata": {
  "celltoolbar": "Create Assignment",
  "kernelspec": {
   "display_name": "Python 3",
   "language": "python",
   "name": "python3"
  },
  "language_info": {
   "codemirror_mode": {
    "name": "ipython",
    "version": 3
   },
   "file_extension": ".py",
   "mimetype": "text/x-python",
   "name": "python",
   "nbconvert_exporter": "python",
   "pygments_lexer": "ipython3",
   "version": "3.7.3"
  }
 },
 "nbformat": 4,
 "nbformat_minor": 4
}
