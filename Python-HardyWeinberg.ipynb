{
 "cells": [
  {
   "cell_type": "markdown",
   "metadata": {
    "id": "eYuJnnUshmMg"
   },
   "source": [
    "# Un programme pour vérifier l'équilibre de Hardy-Weinberg\n",
    "On souhaite démontrer que la fréquence des allèles et des génotypes est stable dans une population conforme au modèlle de Hardy-Weinberg. \n",
    "\n",
    "On dispose pour cela d'une base de programme en langage Python. Les deux allèles sont notés A et B.\n",
    "\n",
    "\n",
    "\n",
    "1.   Compléter les lignes de code incomplètes et executer le programme afin de suivre l'évolution des fréquences alléliques et génotypiques.\n",
    "\n",
    "2.   Indiquer si ces résultats sont conformes aux prédictions du modèle.\n",
    "\n",
    "On souhaite à présent s'écarter des conditions d'équilibre de Hardy-Weinberg en considérant que les individus portant le génotype B//B meurent à la naissance.\n",
    "\n",
    "3.   Nommer la force évolutive que l'on souhaite modéliser.\n",
    "4.   Modifier le programme de façon à prendre en compte l'absence d'individus B//B.\n",
    "5.   Executer le programme, décrire et interpréter les résultats obtenus.\n",
    "\n"
   ]
  },
  {
   "cell_type": "code",
   "execution_count": null,
   "metadata": {
    "id": "xTJjZmVuhbPN"
   },
   "outputs": [],
   "source": [
    "#fréquence initiales des allèles\n",
    "fA = 0.25\n",
    "fB = #A_remplacer\n",
    "\n",
    "#on répète sur 10 générations\n",
    "for i in range (1,11) :\n",
    "  print (\"Génération n°\",i)\n",
    "  #calcul de la fréquence des génotypes à partir de celles des allèles\n",
    "  fAA = fA*fA\n",
    "  fAB = #A_remplacer\n",
    "  fBB = #A_remplacer\n",
    "    print(\"f(A//A)=\",fAA,\" f(A//B)=\",fAB,\" f(B//B)=\",fBB)\n",
    "  #calcul de la nouvelle fréquence des allèles à partir de celle des génotypes\n",
    "  fA = #A_remplacer\n",
    "  fB = #A_remplacer\n",
    "  print(\"fA=\",fA,\" fB=\",fB)"
   ]
  }
 ],
 "metadata": {
  "colab": {
   "authorship_tag": "ABX9TyNBoTrKigN44/gOP4nHAj0h",
   "collapsed_sections": [],
   "name": "Untitled2.ipynb",
   "provenance": []
  },
  "kernelspec": {
   "display_name": "Python 3",
   "language": "python",
   "name": "python3"
  },
  "language_info": {
   "codemirror_mode": {
    "name": "ipython",
    "version": 3
   },
   "file_extension": ".py",
   "mimetype": "text/x-python",
   "name": "python",
   "nbconvert_exporter": "python",
   "pygments_lexer": "ipython3",
   "version": "3.7.3"
  }
 },
 "nbformat": 4,
 "nbformat_minor": 4
}
